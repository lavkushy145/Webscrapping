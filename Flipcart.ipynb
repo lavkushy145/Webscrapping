{
 "cells": [
  {
   "cell_type": "code",
   "execution_count": 12,
   "id": "ad670526",
   "metadata": {},
   "outputs": [],
   "source": [
    "import requests\n",
    "from bs4 import BeautifulSoup as bs\n",
    "from urllib.request import urlopen as uReq\n",
    "import logging"
   ]
  },
  {
   "cell_type": "code",
   "execution_count": 97,
   "id": "9fc54954",
   "metadata": {},
   "outputs": [
    {
     "name": "stdout",
     "output_type": "stream",
     "text": [
      "Enter Product name: redmi\n"
     ]
    }
   ],
   "source": [
    "flipcart_url = \"https://www.flipkart.com/search?q=\"+input(\"Enter Product name: \")"
   ]
  },
  {
   "cell_type": "code",
   "execution_count": 98,
   "id": "f3c3aa77",
   "metadata": {},
   "outputs": [
    {
     "data": {
      "text/plain": [
       "'https://www.flipkart.com/search?q=redmi'"
      ]
     },
     "execution_count": 98,
     "metadata": {},
     "output_type": "execute_result"
    }
   ],
   "source": [
    "flipcart_url"
   ]
  },
  {
   "cell_type": "code",
   "execution_count": 99,
   "id": "372e1a18",
   "metadata": {},
   "outputs": [],
   "source": [
    "urlclient = uReq(flipcart_url)"
   ]
  },
  {
   "cell_type": "code",
   "execution_count": 100,
   "id": "ecb00011",
   "metadata": {},
   "outputs": [
    {
     "data": {
      "text/plain": [
       "<http.client.HTTPResponse at 0x226f4743cd0>"
      ]
     },
     "execution_count": 100,
     "metadata": {},
     "output_type": "execute_result"
    }
   ],
   "source": [
    "urlclient"
   ]
  },
  {
   "cell_type": "code",
   "execution_count": 101,
   "id": "d2459d77",
   "metadata": {},
   "outputs": [],
   "source": [
    "flipcart_page=urlclient.read()"
   ]
  },
  {
   "cell_type": "code",
   "execution_count": 102,
   "id": "c377e9f6",
   "metadata": {},
   "outputs": [],
   "source": [
    "flipcart_html=bs(flipcart_page,'html.parser')"
   ]
  },
  {
   "cell_type": "code",
   "execution_count": 103,
   "id": "d6f73f04",
   "metadata": {},
   "outputs": [],
   "source": [
    "bigbox=flipcart_html.findAll(\"div\",{\"class\":\"_1AtVbE col-12-12\"})"
   ]
  },
  {
   "cell_type": "code",
   "execution_count": 104,
   "id": "8a40e565",
   "metadata": {},
   "outputs": [
    {
     "data": {
      "text/plain": [
       "30"
      ]
     },
     "execution_count": 104,
     "metadata": {},
     "output_type": "execute_result"
    }
   ],
   "source": [
    "len(bigbox)"
   ]
  },
  {
   "cell_type": "code",
   "execution_count": 105,
   "id": "ace3ee1b",
   "metadata": {},
   "outputs": [],
   "source": [
    "del bigbox[0:3]"
   ]
  },
  {
   "cell_type": "code",
   "execution_count": 106,
   "id": "7966a669",
   "metadata": {},
   "outputs": [],
   "source": [
    "product_link=\"https://www.flipkart.com\" +bigbox[3].div.div.div.a['href']"
   ]
  },
  {
   "cell_type": "code",
   "execution_count": 107,
   "id": "840c0d3b",
   "metadata": {},
   "outputs": [],
   "source": [
    "product_req = requests.get(product_link)"
   ]
  },
  {
   "cell_type": "code",
   "execution_count": 108,
   "id": "37c7e408",
   "metadata": {},
   "outputs": [],
   "source": [
    "product_html = bs(product_req.text,'html.parser')"
   ]
  },
  {
   "cell_type": "code",
   "execution_count": 109,
   "id": "e6f3fc1e",
   "metadata": {},
   "outputs": [],
   "source": [
    "comment_box=product_html.find_all(\"div\",{\"class\":\"_16PBlm\"})"
   ]
  },
  {
   "cell_type": "code",
   "execution_count": 110,
   "id": "aa746247",
   "metadata": {},
   "outputs": [
    {
     "data": {
      "text/plain": [
       "11"
      ]
     },
     "execution_count": 110,
     "metadata": {},
     "output_type": "execute_result"
    }
   ],
   "source": [
    "len(comment_box)"
   ]
  },
  {
   "cell_type": "code",
   "execution_count": 111,
   "id": "999b4de3",
   "metadata": {},
   "outputs": [
    {
     "name": "stdout",
     "output_type": "stream",
     "text": [
      "Rupam Dhara\n",
      "Soumadip Mondal\n",
      "Kuldeep Singh\n",
      "Nilesh  Gaidhani\n",
      "Rahul Dhochak\n",
      "Flipkart Customer\n",
      "nitish gaurav\n",
      "Deepak kumar Shrivastava\n",
      "Amal Varghese\n",
      "Sharda  Verma\n"
     ]
    },
    {
     "ename": "AttributeError",
     "evalue": "'NoneType' object has no attribute 'div'",
     "output_type": "error",
     "traceback": [
      "\u001b[1;31m---------------------------------------------------------------------------\u001b[0m",
      "\u001b[1;31mAttributeError\u001b[0m                            Traceback (most recent call last)",
      "Input \u001b[1;32mIn [111]\u001b[0m, in \u001b[0;36m<cell line: 1>\u001b[1;34m()\u001b[0m\n\u001b[0;32m      1\u001b[0m \u001b[38;5;28;01mfor\u001b[39;00m i \u001b[38;5;129;01min\u001b[39;00m comment_box:\n\u001b[1;32m----> 2\u001b[0m     \u001b[38;5;28mprint\u001b[39m(\u001b[43mi\u001b[49m\u001b[38;5;241;43m.\u001b[39;49m\u001b[43mdiv\u001b[49m\u001b[38;5;241;43m.\u001b[39;49m\u001b[43mdiv\u001b[49m\u001b[38;5;241m.\u001b[39mfind_all(\u001b[38;5;124m'\u001b[39m\u001b[38;5;124mp\u001b[39m\u001b[38;5;124m'\u001b[39m,{\u001b[38;5;124m\"\u001b[39m\u001b[38;5;124mclass\u001b[39m\u001b[38;5;124m\"\u001b[39m:\u001b[38;5;124m\"\u001b[39m\u001b[38;5;124m_2sc7ZR _2V5EHH\u001b[39m\u001b[38;5;124m\"\u001b[39m})[\u001b[38;5;241m0\u001b[39m]\u001b[38;5;241m.\u001b[39mtext)\n",
      "\u001b[1;31mAttributeError\u001b[0m: 'NoneType' object has no attribute 'div'"
     ]
    }
   ],
   "source": [
    "for i in comment_box:\n",
    "    print(i.div.div.find_all('p',{\"class\":\"_2sc7ZR _2V5EHH\"})[0].text)"
   ]
  },
  {
   "cell_type": "code",
   "execution_count": 112,
   "id": "bffcb9a5",
   "metadata": {},
   "outputs": [
    {
     "name": "stdout",
     "output_type": "stream",
     "text": [
      "5\n",
      "4\n",
      "5\n",
      "4\n",
      "5\n",
      "5\n",
      "5\n",
      "5\n",
      "4\n",
      "4\n"
     ]
    },
    {
     "ename": "AttributeError",
     "evalue": "'NoneType' object has no attribute 'div'",
     "output_type": "error",
     "traceback": [
      "\u001b[1;31m---------------------------------------------------------------------------\u001b[0m",
      "\u001b[1;31mAttributeError\u001b[0m                            Traceback (most recent call last)",
      "Input \u001b[1;32mIn [112]\u001b[0m, in \u001b[0;36m<cell line: 1>\u001b[1;34m()\u001b[0m\n\u001b[0;32m      1\u001b[0m \u001b[38;5;28;01mfor\u001b[39;00m i \u001b[38;5;129;01min\u001b[39;00m comment_box:\n\u001b[1;32m----> 2\u001b[0m     \u001b[38;5;28mprint\u001b[39m(\u001b[43mi\u001b[49m\u001b[38;5;241;43m.\u001b[39;49m\u001b[43mdiv\u001b[49m\u001b[38;5;241;43m.\u001b[39;49m\u001b[43mdiv\u001b[49m\u001b[38;5;241m.\u001b[39mdiv\u001b[38;5;241m.\u001b[39mdiv\u001b[38;5;241m.\u001b[39mtext)\n",
      "\u001b[1;31mAttributeError\u001b[0m: 'NoneType' object has no attribute 'div'"
     ]
    }
   ],
   "source": [
    "for i in comment_box:\n",
    "    print(i.div.div.div.div.text)"
   ]
  },
  {
   "cell_type": "code",
   "execution_count": 113,
   "id": "229714a6",
   "metadata": {},
   "outputs": [
    {
     "name": "stdout",
     "output_type": "stream",
     "text": [
      "Fabulous!\n",
      "Wonderful\n",
      "Simply awesome\n",
      "Good quality product\n",
      "Wonderful\n",
      "Best in the market!\n",
      "Wonderful\n",
      "Brilliant\n",
      "Wonderful\n",
      "Value-for-money\n"
     ]
    },
    {
     "ename": "AttributeError",
     "evalue": "'NoneType' object has no attribute 'div'",
     "output_type": "error",
     "traceback": [
      "\u001b[1;31m---------------------------------------------------------------------------\u001b[0m",
      "\u001b[1;31mAttributeError\u001b[0m                            Traceback (most recent call last)",
      "Input \u001b[1;32mIn [113]\u001b[0m, in \u001b[0;36m<cell line: 1>\u001b[1;34m()\u001b[0m\n\u001b[0;32m      1\u001b[0m \u001b[38;5;28;01mfor\u001b[39;00m i \u001b[38;5;129;01min\u001b[39;00m comment_box:\n\u001b[1;32m----> 2\u001b[0m     \u001b[38;5;28mprint\u001b[39m(\u001b[43mi\u001b[49m\u001b[38;5;241;43m.\u001b[39;49m\u001b[43mdiv\u001b[49m\u001b[38;5;241;43m.\u001b[39;49m\u001b[43mdiv\u001b[49m\u001b[38;5;241m.\u001b[39mdiv\u001b[38;5;241m.\u001b[39mp\u001b[38;5;241m.\u001b[39mtext)\n",
      "\u001b[1;31mAttributeError\u001b[0m: 'NoneType' object has no attribute 'div'"
     ]
    }
   ],
   "source": [
    "for i in comment_box:\n",
    "    print(i.div.div.div.p.text)"
   ]
  },
  {
   "cell_type": "code",
   "execution_count": 114,
   "id": "cebc8558",
   "metadata": {},
   "outputs": [
    {
     "name": "stdout",
     "output_type": "stream",
     "text": [
      "Good phone in this price range, battery backup good, camera ok ok, and performance very very good 🔥 I am mi love And very fast delivery Flipkart, thanksREAD MORE\n",
      "Very nice mobile 🥳😊Performance is very good 😊Camera quality good 😊Good zooming colour boost ✨I love it😘Thank you Flipkart 😇✨READ MORE\n",
      "Good phone very nice working and good performance nice lookREAD MORE\n",
      "This phone camera is not good but you can use if you are a first phone buyerBattery is awesome after heavy use also not need to charge in a day Display also impresive in this segment HD+ 6.7inch quality was goodSpeaker is loud and clear no any problemPerformance is sometimes not good you can play candy crush game but frame drops are so high, I think I am using right now 90hz panel bcoz i feel poco M4 pro .Now your i first smartphone buyer this phone is greatREAD MORE\n",
      "Mobile is best in this price rangeProcessor Qualcomm Snapdragon 680 is really powerful for multitasking and gamingCamera 📷 Night mode is amazing 🤩Battery life is outstanding fabulous performanceReal 6000 MahOverall excellent performance5 star for Flipkart servicesREAD MORE\n",
      "Better backup osm ans camere clarity is very good 😊 i am happy for this product bec this product is excellent and this budget price is good  very happy 😁READ MORE\n",
      "I m a regular customer of Mi ...redmi 10is awesome 👍. It's charging is very fast ...i m giving this review after 2 months ....i m satisfied with this ...plz go for this guys ..really awesome 👍 products...thanks FlipkartREAD MORE\n",
      "Awesome 😎 Product Redmi has made cool phone this phone camera clicks a photo with HDR which will rock . And performance is the main thing in redmi . Front camera is 🤳 5 mega pixel but comes like 18 mega pixel. Although Redmi 10 is rocking phone.READ MORE\n",
      "Faster delivery,The Smartphone is budget and has spec that is Value for money, It is balanced in that area. Performance is good for the price. Battery is also good. But the software or UI experience is mostly trash.READ MORE\n",
      "Deducted 1 star coz of late delivery. Talking about the phone,in such budget, it's amazing, it's providing much more features than other brands. Big screen,sturdy plastic body, back cam is also awesome. Front camera is not very excellent but it's ok ok in this price. It has the big battery so also takes much time to charge. The charger provided in the box is kind of normal not fast charger. Display resolution and quality is good. Overall this phone is good if you are on a budget. Only downs...READ MORE\n"
     ]
    },
    {
     "ename": "AttributeError",
     "evalue": "'NoneType' object has no attribute 'div'",
     "output_type": "error",
     "traceback": [
      "\u001b[1;31m---------------------------------------------------------------------------\u001b[0m",
      "\u001b[1;31mAttributeError\u001b[0m                            Traceback (most recent call last)",
      "Input \u001b[1;32mIn [114]\u001b[0m, in \u001b[0;36m<cell line: 1>\u001b[1;34m()\u001b[0m\n\u001b[0;32m      1\u001b[0m \u001b[38;5;28;01mfor\u001b[39;00m i \u001b[38;5;129;01min\u001b[39;00m comment_box:\n\u001b[1;32m----> 2\u001b[0m     \u001b[38;5;28mprint\u001b[39m(\u001b[43mi\u001b[49m\u001b[38;5;241;43m.\u001b[39;49m\u001b[43mdiv\u001b[49m\u001b[38;5;241;43m.\u001b[39;49m\u001b[43mdiv\u001b[49m\u001b[38;5;241m.\u001b[39mfind_all(\u001b[38;5;124m'\u001b[39m\u001b[38;5;124mdiv\u001b[39m\u001b[38;5;124m'\u001b[39m,{\u001b[38;5;124m\"\u001b[39m\u001b[38;5;124mclass\u001b[39m\u001b[38;5;124m\"\u001b[39m:\u001b[38;5;124m'\u001b[39m\u001b[38;5;124m'\u001b[39m})[\u001b[38;5;241m0\u001b[39m]\u001b[38;5;241m.\u001b[39mtext)\n",
      "\u001b[1;31mAttributeError\u001b[0m: 'NoneType' object has no attribute 'div'"
     ]
    }
   ],
   "source": [
    "for i in comment_box:\n",
    "    print(i.div.div.find_all('div',{\"class\":''})[0].text)"
   ]
  },
  {
   "cell_type": "code",
   "execution_count": null,
   "id": "ef303c46",
   "metadata": {},
   "outputs": [],
   "source": []
  },
  {
   "cell_type": "code",
   "execution_count": 95,
   "id": "2a3ab306",
   "metadata": {},
   "outputs": [
    {
     "data": {
      "text/plain": [
       "<div class=\"_16PBlm\"><div class=\"col\"><div class=\"col _2wzgFH\"><div class=\"row\"><div class=\"_3LWZlK _1BLPMq\">5<img class=\"_1wB99o\" src=\"data:image/svg+xml;base64,PHN2ZyB4bWxucz0iaHR0cDovL3d3dy53My5vcmcvMjAwMC9zdmciIHdpZHRoPSIxMyIgaGVpZ2h0PSIxMiI+PHBhdGggZmlsbD0iI0ZGRiIgZD0iTTYuNSA5LjQzOWwtMy42NzQgMi4yMy45NC00LjI2LTMuMjEtMi44ODMgNC4yNTQtLjQwNEw2LjUuMTEybDEuNjkgNC4wMSA0LjI1NC40MDQtMy4yMSAyLjg4Mi45NCA0LjI2eiIvPjwvc3ZnPg==\"/></div><p class=\"_2-N8zT\">Fabulous!</p></div><div class=\"row\"><div class=\"t-ZTKy\"><div><div class=\"\">Good phone in this price range, battery backup good, camera ok ok, and performance very very good 🔥 I am mi love <br/><br/>And very fast delivery Flipkart, thanks</div><span class=\"_1H-bmy\"><span>READ MORE</span></span></div></div></div><div class=\"_2nMSwX _3oLIki\"><div class=\"_21YjFX _2A07HP\" style=\"background-image:url(https://rukminim1.flixcart.com/blobio/124/124/imr/blobio-imr_b92e0349567241e38177728764719d5b.jpg?q=90), url(data:image/svg+xml;base64,PHN2ZyB3aWR0aD0iMjIiIGhlaWdodD0iMTgiIHhtbG5zPSJodHRwOi8vd3d3LnczLm9yZy8yMDAwL3N2ZyI+PGcgZmlsbD0iIzlEOUQ5RCIgZmlsbC1ydWxlPSJub256ZXJvIj48cGF0aCBkPSJNMjAgMEgyQzEgMCAwIDEgMCAydjE0YzAgMS4xLjkgMiAyIDJoMThjMSAwIDItMSAyLTJWMmMwLTEtMS0yLTItMnptMCAxNS45MmMtLjAyLjAzLS4wNi4wNi0uMDguMDhIMlYyLjA4TDIuMDggMmgxNy44M2MuMDMuMDIuMDYuMDYuMDguMDh2MTMuODRIMjB6Ii8+PHBhdGggZD0iTTEwIDEyLjUxTDcuNSA5LjUgNCAxNGgxNGwtNC41LTZ6Ii8+PC9nPjwvc3ZnPg==);width:62px;height:62px\"></div></div><div class=\"row _3n8db9\"><div class=\"row\"><p class=\"_2sc7ZR _2V5EHH\">Rupam Dhara</p><svg class=\"_2a1p_T\" height=\"14\" viewbox=\"0 0 12 12\" width=\"14\" xmlns=\"http://www.w3.org/2000/svg\"><g><circle cx=\"6\" cy=\"6\" fill=\"#878787\" r=\"6\"></circle><path d=\"M3 6l2 2 4-4\" fill=\"#878787\" stroke=\"#FFF\" stroke-width=\"1.5\"></path></g></svg><p class=\"_2mcZGG\" id=\"review-e2efe6ad-ff76-4607-ab5d-f97f606dfd9a\"><span>Certified Buyer</span><span>, Purba Bardhaman District</span></p><div></div><p class=\"_2sc7ZR\">5 months ago</p></div><div class=\"_1e9_Zu\"><div class=\"row\"><div class=\"_27aTsS\"><div class=\"_1LmwT9\"><svg class=\"skCrcq\" height=\"15\" width=\"20\" xmlns=\"http://www.w3.org/2000/svg\"><path class=\"_1LIt4y\" d=\"M9.58.006c-.41.043-.794.32-1.01.728-.277.557-2.334 4.693-2.74 5.1-.41.407-.944.6-1.544.6v8.572h7.5c.45 0 .835-.28 1.007-.665 0 0 2.207-6.234 2.207-6.834 0-.6-.47-1.072-1.07-1.072h-3.216c-.6 0-1.07-.535-1.07-1.07 0-.537.835-3.387 1.006-3.944.17-.557-.107-1.157-.664-1.35-.15-.043-.257-.086-.407-.064zM0 6.434v8.572h2.143V6.434H0z\" fill=\"#fff\" fill-rule=\"evenodd\"></path></svg><span class=\"_3c3Px5\">1537</span></div><div class=\"_1LmwT9 pkR4jH\"><svg class=\"skCrcq pkR4jH\" height=\"15\" width=\"20\" xmlns=\"http://www.w3.org/2000/svg\"><path class=\"_1LIt4y\" d=\"M9.58.006c-.41.043-.794.32-1.01.728-.277.557-2.334 4.693-2.74 5.1-.41.407-.944.6-1.544.6v8.572h7.5c.45 0 .835-.28 1.007-.665 0 0 2.207-6.234 2.207-6.834 0-.6-.47-1.072-1.07-1.072h-3.216c-.6 0-1.07-.535-1.07-1.07 0-.537.835-3.387 1.006-3.944.17-.557-.107-1.157-.664-1.35-.15-.043-.257-.086-.407-.064zM0 6.434v8.572h2.143V6.434H0z\" fill=\"#fff\" fill-rule=\"evenodd\"></path></svg><span class=\"_3c3Px5\">243</span></div></div><div class=\"_2bmov8\"><svg class=\"_2UvOBb\" height=\"11\" viewbox=\"0 0 16 27\" width=\"6\" xmlns=\"http://www.w3.org/2000/svg\"><path class=\"_2aPE6f\" d=\"M16 23.207L6.11 13.161 16 3.093 12.955 0 0 13.161l12.955 13.161z\" fill=\"#fff\"></path></svg><div class=\"_3E8aIl _38dCuf\"><div class=\"_3XCI6U\"><a href=\"/reviews/MOBGC9GYEBH3GZ4E:2610?reviewId=e2efe6ad-ff76-4607-ab5d-f97f606dfd9a\"><span>Permalink</span></a></div><div class=\"_3XCI6U _2b2z-j\"><span>Report Abuse</span></div></div></div></div></div></div></div></div></div>"
      ]
     },
     "execution_count": 95,
     "metadata": {},
     "output_type": "execute_result"
    }
   ],
   "source": [
    "comment_box[0]"
   ]
  },
  {
   "cell_type": "code",
   "execution_count": 96,
   "id": "7ed02efd",
   "metadata": {},
   "outputs": [
    {
     "name": "stdout",
     "output_type": "stream",
     "text": [
      "https://www.flipkart.com/redmi-10-shadow-black-64-gb/p/itm0f35cd8b62294?pid=MOBGMPHFVU6NNDH5&lid=LSTMOBGMPHFVU6NNDH5AK0YVP&marketplace=FLIPKART&q=redmi&store=tyy%2F4io&srno=s_1_2&otracker=search&fm=organic&iid=69c77d32-6c70-47c9-99bc-e0a18ac0d797.MOBGMPHFVU6NNDH5.SEARCH&ppt=None&ppn=None&ssid=gdhuhsekds0000001678957174826&qH=9b6bf0057c19bd94\n",
      "https://www.flipkart.com/redmi-10-midnight-black-64-gb/p/itmd93641e4ebb47?pid=MOBGC9GYEBH3GZ4E&lid=LSTMOBGC9GYEBH3GZ4E44YY0L&marketplace=FLIPKART&q=redmi&store=tyy%2F4io&srno=s_1_3&otracker=search&fm=organic&iid=69c77d32-6c70-47c9-99bc-e0a18ac0d797.MOBGC9GYEBH3GZ4E.SEARCH&ppt=None&ppn=None&ssid=gdhuhsekds0000001678957174826&qH=9b6bf0057c19bd94\n",
      "https://www.flipkart.com/redmi-10-caribbean-green-64-gb/p/itmbfb8dfcdd6e10?pid=MOBGC9GYQGGKWEU3&lid=LSTMOBGC9GYQGGKWEU3SLBNSD&marketplace=FLIPKART&q=redmi&store=tyy%2F4io&spotlightTagId=BestsellerId_tyy%2F4io&srno=s_1_4&otracker=search&fm=organic&iid=69c77d32-6c70-47c9-99bc-e0a18ac0d797.MOBGC9GYQGGKWEU3.SEARCH&ppt=None&ppn=None&ssid=gdhuhsekds0000001678957174826&qH=9b6bf0057c19bd94\n",
      "https://www.flipkart.com/redmi-10-sunrise-orange-64-gb/p/itmae4c7ad2665f3?pid=MOBGMPHF9TDM2MM3&lid=LSTMOBGMPHF9TDM2MM39RM7JR&marketplace=FLIPKART&q=redmi&store=tyy%2F4io&srno=s_1_5&otracker=search&fm=organic&iid=69c77d32-6c70-47c9-99bc-e0a18ac0d797.MOBGMPHF9TDM2MM3.SEARCH&ppt=None&ppn=None&ssid=gdhuhsekds0000001678957174826&qH=9b6bf0057c19bd94\n",
      "https://www.flipkart.com/redmi-10-pacific-blue-128-gb/p/itmeee56f3526c69?pid=MOBGC9GYMXA2XAH4&lid=LSTMOBGC9GYMXA2XAH4QEHS0T&marketplace=FLIPKART&q=redmi&store=tyy%2F4io&srno=s_1_6&otracker=search&fm=organic&iid=69c77d32-6c70-47c9-99bc-e0a18ac0d797.MOBGC9GYMXA2XAH4.SEARCH&ppt=None&ppn=None&ssid=gdhuhsekds0000001678957174826&qH=9b6bf0057c19bd94\n",
      "https://www.flipkart.com/redmi-10-caribbean-green-128-gb/p/itm2389889c22bf0?pid=MOBGC9GYQVJHKH76&lid=LSTMOBGC9GYQVJHKH76IXAL5V&marketplace=FLIPKART&q=redmi&store=tyy%2F4io&srno=s_1_7&otracker=search&fm=organic&iid=69c77d32-6c70-47c9-99bc-e0a18ac0d797.MOBGC9GYQVJHKH76.SEARCH&ppt=None&ppn=None&ssid=gdhuhsekds0000001678957174826&qH=9b6bf0057c19bd94\n",
      "https://www.flipkart.com/redmi-10-midnight-black-128-gb/p/itm68b3d276eda8c?pid=MOBGC9GYX2QQXKWK&lid=LSTMOBGC9GYX2QQXKWKZPFGVJ&marketplace=FLIPKART&q=redmi&store=tyy%2F4io&srno=s_1_8&otracker=search&fm=organic&iid=69c77d32-6c70-47c9-99bc-e0a18ac0d797.MOBGC9GYX2QQXKWK.SEARCH&ppt=None&ppn=None&ssid=gdhuhsekds0000001678957174826&qH=9b6bf0057c19bd94\n",
      "https://www.flipkart.com/redmi-9i-sport-carbon-black-64-gb/p/itm4559197007bd1?pid=MOBG6WQWRGRRDBH6&lid=LSTMOBG6WQWRGRRDBH6MSMKC8&marketplace=FLIPKART&q=redmi&store=tyy%2F4io&srno=s_1_9&otracker=search&fm=organic&iid=69c77d32-6c70-47c9-99bc-e0a18ac0d797.MOBG6WQWRGRRDBH6.SEARCH&ppt=None&ppn=None&ssid=gdhuhsekds0000001678957174826&qH=9b6bf0057c19bd94\n",
      "https://www.flipkart.com/redmi-9i-sport-coral-green-64-gb/p/itmb5e8d8186b602?pid=MOBG6WQWJRFZ5WDG&lid=LSTMOBG6WQWJRFZ5WDGWJR993&marketplace=FLIPKART&q=redmi&store=tyy%2F4io&srno=s_1_10&otracker=search&fm=organic&iid=69c77d32-6c70-47c9-99bc-e0a18ac0d797.MOBG6WQWJRFZ5WDG.SEARCH&ppt=None&ppn=None&ssid=gdhuhsekds0000001678957174826&qH=9b6bf0057c19bd94\n",
      "https://www.flipkart.com/redmi-note-10s-frost-white-64-gb/p/itm2059d1d0cfd67?pid=MOBGAHD8TKZGPYJW&lid=LSTMOBGAHD8TKZGPYJWSOATOH&marketplace=FLIPKART&q=redmi&store=tyy%2F4io&srno=s_1_11&otracker=search&fm=organic&iid=69c77d32-6c70-47c9-99bc-e0a18ac0d797.MOBGAHD8TKZGPYJW.SEARCH&ppt=None&ppn=None&ssid=gdhuhsekds0000001678957174826&qH=9b6bf0057c19bd94\n",
      "https://www.flipkart.com/redmi-note-12-pro-5g-glacier-blue-128-gb/p/itm8fbee21008560?pid=MOBGH2UVZHHQGRRP&lid=LSTMOBGH2UVZHHQGRRPHUPSMM&marketplace=FLIPKART&q=redmi&store=tyy%2F4io&srno=s_1_12&otracker=search&fm=organic&iid=69c77d32-6c70-47c9-99bc-e0a18ac0d797.MOBGH2UVZHHQGRRP.SEARCH&ppt=None&ppn=None&ssid=gdhuhsekds0000001678957174826&qH=9b6bf0057c19bd94\n",
      "https://www.flipkart.com/redmi-note-12-pro-5g-onyx-black-128-gb/p/itmbc9fd7adaa32a?pid=MOBGH2UVMHEPGSHM&lid=LSTMOBGH2UVMHEPGSHMZTFAGO&marketplace=FLIPKART&q=redmi&store=tyy%2F4io&srno=s_1_13&otracker=search&fm=organic&iid=69c77d32-6c70-47c9-99bc-e0a18ac0d797.MOBGH2UVMHEPGSHM.SEARCH&ppt=None&ppn=None&ssid=gdhuhsekds0000001678957174826&qH=9b6bf0057c19bd94\n",
      "https://www.flipkart.com/redmi-9i-sport-metallic-blue-64-gb/p/itmeb95d0b4616cc?pid=MOBG6WQWQZZMGQCU&lid=LSTMOBG6WQWQZZMGQCU57U3JM&marketplace=FLIPKART&q=redmi&store=tyy%2F4io&srno=s_1_14&otracker=search&fm=organic&iid=69c77d32-6c70-47c9-99bc-e0a18ac0d797.MOBG6WQWQZZMGQCU.SEARCH&ppt=None&ppn=None&ssid=gdhuhsekds0000001678957174826&qH=9b6bf0057c19bd94\n",
      "https://www.flipkart.com/redmi-note-11-space-black-64-gb/p/itme81102bba3838?pid=MOBGHDXJQFQEF2R5&lid=LSTMOBGHDXJQFQEF2R5X3JDPK&marketplace=FLIPKART&q=redmi&store=tyy%2F4io&srno=s_1_15&otracker=search&fm=organic&iid=69c77d32-6c70-47c9-99bc-e0a18ac0d797.MOBGHDXJQFQEF2R5.SEARCH&ppt=None&ppn=None&ssid=gdhuhsekds0000001678957174826&qH=9b6bf0057c19bd94\n",
      "https://www.flipkart.com/redmi-note-12-pro-5g-stardust-purple-128-gb/p/itm26c8ff9d1f226?pid=MOBGH2UVWWDA4MS6&lid=LSTMOBGH2UVWWDA4MS6M7LVCT&marketplace=FLIPKART&q=redmi&store=tyy%2F4io&srno=s_1_16&otracker=search&fm=organic&iid=69c77d32-6c70-47c9-99bc-e0a18ac0d797.MOBGH2UVWWDA4MS6.SEARCH&ppt=None&ppn=None&ssid=gdhuhsekds0000001678957174826&qH=9b6bf0057c19bd94\n",
      "https://www.flipkart.com/redmi-note-12-pro-5g-onyx-black-256-gb/p/itme8f9e57a69716?pid=MOBGH2UVYCGSCPYT&lid=LSTMOBGH2UVYCGSCPYTIJE8EN&marketplace=FLIPKART&q=redmi&store=tyy%2F4io&srno=s_1_17&otracker=search&fm=organic&iid=69c77d32-6c70-47c9-99bc-e0a18ac0d797.MOBGH2UVYCGSCPYT.SEARCH&ppt=None&ppn=None&ssid=gdhuhsekds0000001678957174826&qH=9b6bf0057c19bd94\n",
      "https://www.flipkart.com/redmi-note-12-pro-5g-glacier-blue-256-gb/p/itm62978004cf8a8?pid=MOBGH2UVHWEZKFX2&lid=LSTMOBGH2UVHWEZKFX2UCYUCG&marketplace=FLIPKART&q=redmi&store=tyy%2F4io&srno=s_1_18&otracker=search&fm=organic&iid=69c77d32-6c70-47c9-99bc-e0a18ac0d797.MOBGH2UVHWEZKFX2.SEARCH&ppt=None&ppn=None&ssid=gdhuhsekds0000001678957174826&qH=9b6bf0057c19bd94\n",
      "https://www.flipkart.com/redmi-note-12-pro-5g-stardust-purple-256-gb/p/itmb3d6f68dfb5d2?pid=MOBGH2UVFMVF8PHG&lid=LSTMOBGH2UVFMVF8PHG41SQKJ&marketplace=FLIPKART&q=redmi&store=tyy%2F4io&srno=s_1_19&otracker=search&fm=organic&iid=69c77d32-6c70-47c9-99bc-e0a18ac0d797.MOBGH2UVFMVF8PHG.SEARCH&ppt=None&ppn=None&ssid=gdhuhsekds0000001678957174826&qH=9b6bf0057c19bd94\n",
      "https://www.flipkart.com/redmi-10a-slate-grey-32-gb/p/itmab0d50e81ec2e?pid=MOBGHFFTQRCQYYNM&lid=LSTMOBGHFFTQRCQYYNMTLTIUH&marketplace=FLIPKART&q=redmi&store=tyy%2F4io&srno=s_1_20&otracker=search&fm=organic&iid=69c77d32-6c70-47c9-99bc-e0a18ac0d797.MOBGHFFTQRCQYYNM.SEARCH&ppt=None&ppn=None&ssid=gdhuhsekds0000001678957174826&qH=9b6bf0057c19bd94\n",
      "https://www.flipkart.com/redmi-10a-charcoal-black-64-gb/p/itmab0d50e81ec2e?pid=MOBGHFFTYB6GYY4Y&lid=LSTMOBGHFFTYB6GYY4YKLCYMY&marketplace=FLIPKART&q=redmi&store=tyy%2F4io&srno=s_1_21&otracker=search&fm=organic&iid=69c77d32-6c70-47c9-99bc-e0a18ac0d797.MOBGHFFTYB6GYY4Y.SEARCH&ppt=None&ppn=None&ssid=gdhuhsekds0000001678957174826&qH=9b6bf0057c19bd94\n",
      "https://www.flipkart.com/redmi-10a-sea-blue-32-gb/p/itmab0d50e81ec2e?pid=MOBGHFFT4RWXDEPA&lid=LSTMOBGHFFT4RWXDEPAB3YKW1&marketplace=FLIPKART&q=redmi&store=tyy%2F4io&srno=s_1_22&otracker=search&fm=organic&iid=69c77d32-6c70-47c9-99bc-e0a18ac0d797.MOBGHFFT4RWXDEPA.SEARCH&ppt=None&ppn=None&ssid=gdhuhsekds0000001678957174826&qH=9b6bf0057c19bd94\n",
      "https://www.flipkart.com/redmi-10a-charcoal-black-32-gb/p/itmab0d50e81ec2e?pid=MOBGDRGHYWAAZDVD&lid=LSTMOBGDRGHYWAAZDVDBM9TPS&marketplace=FLIPKART&q=redmi&store=tyy%2F4io&srno=s_1_23&otracker=search&fm=organic&iid=69c77d32-6c70-47c9-99bc-e0a18ac0d797.MOBGDRGHYWAAZDVD.SEARCH&ppt=None&ppn=None&ssid=gdhuhsekds0000001678957174826&qH=9b6bf0057c19bd94\n",
      "https://www.flipkart.com/redmi-a1-black-32-gb/p/itm2de52fdbd0449?pid=MOBGHFFTYPRZSYZU&lid=LSTMOBGHFFTYPRZSYZUEEG3IB&marketplace=FLIPKART&q=redmi&store=tyy%2F4io&srno=s_1_24&otracker=search&fm=organic&iid=69c77d32-6c70-47c9-99bc-e0a18ac0d797.MOBGHFFTYPRZSYZU.SEARCH&ppt=None&ppn=None&ssid=gdhuhsekds0000001678957174826&qH=9b6bf0057c19bd94\n"
     ]
    },
    {
     "ename": "AttributeError",
     "evalue": "'NoneType' object has no attribute 'a'",
     "output_type": "error",
     "traceback": [
      "\u001b[1;31m---------------------------------------------------------------------------\u001b[0m",
      "\u001b[1;31mAttributeError\u001b[0m                            Traceback (most recent call last)",
      "Input \u001b[1;32mIn [96]\u001b[0m, in \u001b[0;36m<cell line: 1>\u001b[1;34m()\u001b[0m\n\u001b[0;32m      1\u001b[0m \u001b[38;5;28;01mfor\u001b[39;00m i \u001b[38;5;129;01min\u001b[39;00m bigbox:\n\u001b[1;32m----> 2\u001b[0m     \u001b[38;5;28mprint\u001b[39m(\u001b[38;5;124m\"\u001b[39m\u001b[38;5;124mhttps://www.flipkart.com\u001b[39m\u001b[38;5;124m\"\u001b[39m \u001b[38;5;241m+\u001b[39m\u001b[43mi\u001b[49m\u001b[38;5;241;43m.\u001b[39;49m\u001b[43mdiv\u001b[49m\u001b[38;5;241;43m.\u001b[39;49m\u001b[43mdiv\u001b[49m\u001b[38;5;241;43m.\u001b[39;49m\u001b[43mdiv\u001b[49m\u001b[38;5;241;43m.\u001b[39;49m\u001b[43ma\u001b[49m[\u001b[38;5;124m'\u001b[39m\u001b[38;5;124mhref\u001b[39m\u001b[38;5;124m'\u001b[39m])\n",
      "\u001b[1;31mAttributeError\u001b[0m: 'NoneType' object has no attribute 'a'"
     ]
    }
   ],
   "source": [
    "for i in bigbox:\n",
    "    print(\"https://www.flipkart.com\" +i.div.div.div.a['href'])"
   ]
  }
 ],
 "metadata": {
  "kernelspec": {
   "display_name": "Python 3 (ipykernel)",
   "language": "python",
   "name": "python3"
  },
  "language_info": {
   "codemirror_mode": {
    "name": "ipython",
    "version": 3
   },
   "file_extension": ".py",
   "mimetype": "text/x-python",
   "name": "python",
   "nbconvert_exporter": "python",
   "pygments_lexer": "ipython3",
   "version": "3.10.6"
  }
 },
 "nbformat": 4,
 "nbformat_minor": 5
}
