{
 "cells": [
  {
   "cell_type": "code",
   "execution_count": 1,
   "id": "2080304f",
   "metadata": {},
   "outputs": [],
   "source": [
    "import requests\n",
    "from bs4 import BeautifulSoup"
   ]
  },
  {
   "cell_type": "code",
   "execution_count": 2,
   "id": "d7b3a74c",
   "metadata": {},
   "outputs": [],
   "source": [
    "url=\"https://ackodrive.com/\""
   ]
  },
  {
   "cell_type": "code",
   "execution_count": 3,
   "id": "b1464405",
   "metadata": {},
   "outputs": [],
   "source": [
    "page=requests.get(url)"
   ]
  },
  {
   "cell_type": "code",
   "execution_count": 4,
   "id": "87282c5c",
   "metadata": {},
   "outputs": [],
   "source": [
    "soup=BeautifulSoup(page.content, 'html.parser')"
   ]
  },
  {
   "cell_type": "code",
   "execution_count": 5,
   "id": "b9c84f89",
   "metadata": {},
   "outputs": [],
   "source": [
    "results=soup.find_all('div', class_='ListingCarDesktop__Wrapper-sc-d752a83e-0')"
   ]
  },
  {
   "cell_type": "code",
   "execution_count": 6,
   "id": "ce074617",
   "metadata": {},
   "outputs": [],
   "source": [
    "List_Url=[]\n",
    "for result in results:\n",
    "    url1=result.find('a', class_='styles__AnchorTagWithoutUnderline-sc-fd1ddfca-32 fzHWVp').get('href')\n",
    "    List_Url.append(url+url1)\n",
    "# for i in List_Url:\n",
    "#     print(i)\n",
    "#     link=requests.get(i)\n",
    "#     data=BeautifulSoup(link.content, 'html.parser')\n",
    "#     title=data.find('h1', class_='styles__Name-sc-f35b400c-5 klrFvB').text\n",
    "#     price=data.find('div', class_='styles__AckoPrice-sc-3a07cd25-9 cvvnTH').text\n",
    "#     feature=data.find('div', class_='styles__Specs-sc-f35b400c-6 iWayBJ').text\n",
    "#     color=data.find('div', class_='styles__Title-sc-7f3be2-1 ePHAcr').text\n",
    "#     print(title)\n",
    "#     print(price)\n",
    "#     print(feature)\n",
    "#     print(color, end='\\n'*2)"
   ]
  },
  {
   "cell_type": "code",
   "execution_count": 7,
   "id": "68e69b33",
   "metadata": {},
   "outputs": [],
   "source": [
    "from csv import writer"
   ]
  },
  {
   "cell_type": "code",
   "execution_count": 9,
   "id": "83e9f0bd",
   "metadata": {},
   "outputs": [],
   "source": [
    "with open('./Database/Car-Scrap.csv', 'w', newline='', encoding='utf8') as f:\n",
    "    thewriter=writer(f)\n",
    "    header=['Model of Car','Price', 'Feature', 'Color', 'URL']\n",
    "    thewriter.writerow(header)\n",
    "    for i in List_Url:\n",
    "        link=requests.get(i)\n",
    "        data=BeautifulSoup(link.content, 'html.parser')\n",
    "        title=data.find('h1', class_='styles__Name-sc-f35b400c-5 klrFvB').text.replace('\\n', '')\n",
    "        price=data.find('div', class_='styles__AckoPrice-sc-3a07cd25-9 cvvnTH').text.replace('\\n', '')\n",
    "        feature=data.find('div', class_='styles__Specs-sc-f35b400c-6 iWayBJ').text.replace('\\n', '')\n",
    "        color=data.find('div', class_='styles__Title-sc-7f3be2-1 ePHAcr').text.replace('\\n', '')\n",
    "        info=[title,price,feature,color,i]\n",
    "        thewriter.writerow(info)"
   ]
  }
 ],
 "metadata": {
  "kernelspec": {
   "display_name": "Python 3 (ipykernel)",
   "language": "python",
   "name": "python3"
  },
  "language_info": {
   "codemirror_mode": {
    "name": "ipython",
    "version": 3
   },
   "file_extension": ".py",
   "mimetype": "text/x-python",
   "name": "python",
   "nbconvert_exporter": "python",
   "pygments_lexer": "ipython3",
   "version": "3.10.9"
  }
 },
 "nbformat": 4,
 "nbformat_minor": 5
}
